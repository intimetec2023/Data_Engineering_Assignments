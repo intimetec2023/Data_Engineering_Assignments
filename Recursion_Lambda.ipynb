{
 "cells": [
  {
   "cell_type": "markdown",
   "id": "b1454af0-da23-40c9-baa0-002fff14b1c5",
   "metadata": {},
   "source": [
    "Week 1\n",
    "1.Recursion"
   ]
  },
  {
   "cell_type": "code",
   "execution_count": null,
   "id": "db399716-12cc-43fc-8500-60a5c193c5c3",
   "metadata": {},
   "outputs": [],
   "source": [
    "# Recursion \n",
    "# Write a Python program to print factorial of a number.\n",
    "\n",
    "def fact(num):\n",
    "    if num == 1:\n",
    "        return 1\n",
    "    else:\n",
    "         return num * fact(num - 1)\n",
    "print(fact(5))"
   ]
  },
  {
   "cell_type": "code",
   "execution_count": null,
   "id": "0e9479f2-3ad8-43f8-ab10-8cedad261920",
   "metadata": {},
   "outputs": [],
   "source": [
    "# Write a Python program to solve the Fibonacci sequence using recursion\n",
    "def fib(n):\n",
    "    if n == 1:\n",
    "        return 0\n",
    "    elif n == 2:\n",
    "        return 1\n",
    "    else:\n",
    "        return fib(n-1) + fib(n-2)\n",
    "print(fib(15))"
   ]
  },
  {
   "cell_type": "code",
   "execution_count": null,
   "id": "1ed3cf10-ced5-476d-ac92-8a25a3e0d4d0",
   "metadata": {},
   "outputs": [],
   "source": [
    "# Write a Python program to calculate the sum of a list of numbers.\n",
    "\n",
    "def suml(lis, n):\n",
    "    if n == len(lis) - 1\n",
    "        return lis[n]\n",
    "    else:\n",
    "        return lis[n] + suml(lis, n+1)\n",
    "lis = [1,3,4,5,3,3,2]\n",
    "n = 0\n",
    "print(suml(lis, n))"
   ]
  },
  {
   "cell_type": "code",
   "execution_count": null,
   "id": "c2524922-fbe8-4c96-bf62-d4710427a903",
   "metadata": {},
   "outputs": [],
   "source": [
    "def suml(lis):\n",
    "    if len(lis) == 1:\n",
    "        return lis[0]\n",
    "    else:\n",
    "        return lis[0] + suml(lis[1:])\n",
    "\n",
    "lis = [1, 3, 4, 5, 3, 3, 2]\n",
    "print(suml(lis))\n"
   ]
  },
  {
   "cell_type": "code",
   "execution_count": null,
   "id": "31512b9c-9c71-4dd9-9bec-ef81ef6cee7d",
   "metadata": {},
   "outputs": [],
   "source": [
    "# Write a Python program to calculate the sum of a list of numbers.\n",
    "def s(n):\n",
    "    if n == 1:\n",
    "        print (n)\n",
    "        return n\n",
    "    else:\n",
    "        print(n)        # for decreasing order\n",
    "        s(n-1)\n",
    "        #print(n)       # for increasing order\n",
    "s(7)\n"
   ]
  },
  {
   "cell_type": "markdown",
   "id": "dcf21cbb-6f15-42b4-aa0a-b9f32587d8f4",
   "metadata": {},
   "source": [
    "2. Lambda"
   ]
  },
  {
   "cell_type": "code",
   "execution_count": null,
   "id": "58dac501-d87e-44d6-9b64-52ac81e6722b",
   "metadata": {},
   "outputs": [],
   "source": [
    "# Cube of a number\n",
    "cubes = lambda x : x**3\n",
    "print(cubes(9))"
   ]
  },
  {
   "cell_type": "code",
   "execution_count": null,
   "id": "193bad72-13e2-4432-adc1-615652d84889",
   "metadata": {},
   "outputs": [],
   "source": [
    "# sum of two number\n",
    "sum = lambda a,b : a+b\n",
    "print(sum(3,512))"
   ]
  },
  {
   "cell_type": "code",
   "execution_count": null,
   "id": "64f3fc5d-45f8-4dc8-95d8-b6a39198f1e7",
   "metadata": {},
   "outputs": [],
   "source": [
    "# lambda with filter for filtering out even numbers from a list\n",
    "lis = [2,3,1,4,6,9,5,64]\n",
    "new_lis = list(filter(lambda x : (x % 2) == 0, lis))\n",
    "print(new_lis)"
   ]
  },
  {
   "cell_type": "code",
   "execution_count": null,
   "id": "4526ba4e-b7ea-432e-96ae-b489a0a195f4",
   "metadata": {},
   "outputs": [],
   "source": [
    "# lambda with map for converting a list into its square list\n",
    "\n",
    "lis = [22,4,5,6,67,8,3,4]\n",
    "new_lis = list(map(lambda x:x**2, lis))\n",
    "print(new_lis)"
   ]
  },
  {
   "cell_type": "markdown",
   "id": "e032a434-b9ad-4ded-89b2-d4442b9087da",
   "metadata": {},
   "source": [
    "3. Exceptions"
   ]
  },
  {
   "cell_type": "code",
   "execution_count": 5,
   "id": "c39a3455-a07b-49a8-a9ee-d28cf3e787a5",
   "metadata": {},
   "outputs": [
    {
     "name": "stdout",
     "output_type": "stream",
     "text": [
      "Please enter a valid number except 0\n"
     ]
    }
   ],
   "source": [
    "def division(a,b):\n",
    "    try:\n",
    "        res = a/b\n",
    "        print(res)\n",
    "    except ZeroDivisionError:\n",
    "        print(\"Please enter a valid number except 0\")\n",
    "division(5,0)"
   ]
  },
  {
   "cell_type": "code",
   "execution_count": 1,
   "id": "8196fc0d-40fc-437f-809f-3a758a82ae2e",
   "metadata": {},
   "outputs": [
    {
     "name": "stdout",
     "output_type": "stream",
     "text": [
      "Please enter a interger value\n"
     ]
    }
   ],
   "source": [
    "# Write a Python program that prompts the user to input an integer and raises a ValueError exception if the input is not a valid integer.\n",
    "\n",
    "def val_check(a):\n",
    "    try:\n",
    "        val = int(a)\n",
    "        print(val)\n",
    "    except ValueError:\n",
    "        print(\"Please enter a interger value\")\n",
    "val_check(\"fyu\")"
   ]
  },
  {
   "cell_type": "code",
   "execution_count": 5,
   "id": "9d48aea0-60b4-465e-a78a-f6d6faabcf56",
   "metadata": {},
   "outputs": [
    {
     "name": "stdout",
     "output_type": "stream",
     "text": [
      "Hi there!\n",
      "How are you\n"
     ]
    }
   ],
   "source": [
    "#  Write a Python program that opens a file and handles a FileNotFoundError exception if the file does not exist.\n",
    "\n",
    "def file_checker(path):\n",
    "    try:\n",
    "        with open (path, 'r') as f:\n",
    "            file_content = f.read()\n",
    "            print(file_content)\n",
    "    except FileNotFoundError:\n",
    "        print(\"please enter correct file path\")\n",
    "file_checker(r\"C:\\Users\\priyanka.choudhary\\Desktop\\Test.txt\")"
   ]
  },
  {
   "cell_type": "markdown",
   "id": "a1e1d386-5569-496e-84a9-3d9553124f36",
   "metadata": {},
   "source": [
    "Python try with else clause\n",
    "In some situations, we might want to run a certain block of code if the code block inside try runs without any errors.\n",
    "For these cases, you can use the optional else keyword with the try statement."
   ]
  },
  {
   "cell_type": "code",
   "execution_count": 7,
   "id": "6cdc8edb-f3d1-4fc0-9cb5-0447f7f1c65a",
   "metadata": {},
   "outputs": [
    {
     "name": "stdin",
     "output_type": "stream",
     "text": [
      "Enter a number:  3\n"
     ]
    },
    {
     "name": "stdout",
     "output_type": "stream",
     "text": [
      "Not an even number!\n"
     ]
    }
   ],
   "source": [
    "# program to print the reciprocal of even numbers\n",
    "try:\n",
    "    num = int(input(\"Enter a number: \"))\n",
    "    assert num % 2 == 0\n",
    "except:\n",
    "    print(\"Not an even number!\")\n",
    "else:\n",
    "    reciprocal = 1/num\n",
    "    print(reciprocal)"
   ]
  },
  {
   "cell_type": "markdown",
   "id": "babe6e92-8b29-4f09-a1d4-3052d60ac6a4",
   "metadata": {},
   "source": [
    "The assert keyword is used when debugging code. The assert keyword lets you test if a condition in your code returns True, if not, the program will raise an AssertionError. You can write a message to be written if the code returns False, check the example below."
   ]
  },
  {
   "cell_type": "code",
   "execution_count": 22,
   "id": "f589a69e-135d-41e0-ad4b-7aa3051e9c73",
   "metadata": {},
   "outputs": [
    {
     "name": "stdout",
     "output_type": "stream",
     "text": [
      "True\n",
      "True\n",
      "False\n",
      "True\n",
      "False\n",
      "False\n"
     ]
    }
   ],
   "source": [
    "# is vs ==\n",
    "# is compares exact location of objects in memory, ie identity of obj\n",
    "# == compares values of objects\n",
    "\n",
    "# Note: if the object is immutable then python does not waste new addres to store the same value for diff obj. So both is and == gives True\n",
    "# ex\n",
    "\n",
    "a = \"str\"\n",
    "b = \"str\"\n",
    "print(a is b)\n",
    "print( a == b)\n",
    "\n",
    "# but if obj is immutable then even though the values are same still pyhton sotres them at diff locations so when we check for is- it gives False as ans\n",
    "\n",
    "c = [1,2,4]\n",
    "d = [1,2,4]\n",
    "print(c is d)\n",
    "print(c == d)\n",
    "\n",
    "e = 4\n",
    "f =\"4\"\n",
    "print(e is f)  # even though both are constants and are immutable  but the types are diff so both gives false\n",
    "print(e == f)"
   ]
  },
  {
   "cell_type": "markdown",
   "id": "8ec472fc-1648-4674-ae41-f7f9e8f625da",
   "metadata": {},
   "source": [
    "4. OOPS"
   ]
  },
  {
   "cell_type": "code",
   "execution_count": 12,
   "id": "54b14f4b-f671-4798-9a00-97b2b02ebe58",
   "metadata": {},
   "outputs": [
    {
     "name": "stdout",
     "output_type": "stream",
     "text": [
      "15\n"
     ]
    }
   ],
   "source": [
    "# Triangle class with perimeter method\n",
    "\n",
    "class Triangle:\n",
    "    def __init__(self, a, b, c):\n",
    "        self.a = a\n",
    "        self.b = b\n",
    "        self.c = c\n",
    "\n",
    "    def perimeter(self):\n",
    "        peri = self.a + self.b + self.c\n",
    "        return peri\n",
    "\n",
    "tri = Triangle(5,4,6)\n",
    "res = tri.perimeter()\n",
    "print(res)"
   ]
  },
  {
   "cell_type": "code",
   "execution_count": 18,
   "id": "1355c21d-f8a4-4892-b274-a82391cd937c",
   "metadata": {},
   "outputs": [
    {
     "name": "stdout",
     "output_type": "stream",
     "text": [
      "real =  -1\n",
      "img =  13\n"
     ]
    }
   ],
   "source": [
    "# class to add two imag num\n",
    "\n",
    "class Addition:\n",
    "    def __init__(self, real, img):\n",
    "        self.real = real\n",
    "        self.img = img\n",
    "    def add(self, n2):\n",
    "        real = self.real + n2.real\n",
    "        img = self.img + n2.img\n",
    "        sum = Addition(real, img)  # here we have to make obj again we should not do like this: sum = real, img\n",
    "        return sum\n",
    "num = Addition(2,6)\n",
    "num2 = Addition(-3,7)\n",
    "res = num.add(num2)\n",
    "print(\"real = \", res.real)\n",
    "print(\"img = \", res.img)\n",
    "        "
   ]
  },
  {
   "cell_type": "markdown",
   "id": "eddbf042-4c0b-4b9f-9aa6-9d5103f86c93",
   "metadata": {},
   "source": [
    "5. Decorators"
   ]
  },
  {
   "cell_type": "code",
   "execution_count": 27,
   "id": "e4b6effd-f659-43a8-a456-1d82155b57cf",
   "metadata": {},
   "outputs": [
    {
     "name": "stdout",
     "output_type": "stream",
     "text": [
      "Greetings..\n",
      "hey! there\n"
     ]
    }
   ],
   "source": [
    "def deco(fun):\n",
    "    #print(\"Greetings..\")\n",
    "    def inner():\n",
    "        print(\"Greetings..\")\n",
    "        fun()\n",
    "    return inner\n",
    "    \n",
    "@deco\n",
    "def greet():\n",
    "    print(\"hey! there\")\n",
    "    \n",
    "greet()\n",
    "    "
   ]
  },
  {
   "cell_type": "code",
   "execution_count": 33,
   "id": "57fa5465-1f68-4f4e-a48e-4aa2177fbc8e",
   "metadata": {},
   "outputs": [
    {
     "name": "stdout",
     "output_type": "stream",
     "text": [
      "Cann't divide by 0\n",
      "2.0\n"
     ]
    }
   ],
   "source": [
    "def smart_div(fun):\n",
    "    def inner(a,b):\n",
    "        if b == 0:\n",
    "            print(\"Cann't divide by 0\")\n",
    "            return \n",
    "        fun(a,b)\n",
    "    return inner\n",
    "    \n",
    "@smart_div\n",
    "def div(a,b):\n",
    "    print(a/b)\n",
    "div(5,0)\n",
    "div(4,2)"
   ]
  },
  {
   "cell_type": "code",
   "execution_count": null,
   "id": "efab28ea-4ab7-4343-af70-8674c064339a",
   "metadata": {},
   "outputs": [],
   "source": []
  }
 ],
 "metadata": {
  "kernelspec": {
   "display_name": "Python 3 (ipykernel)",
   "language": "python",
   "name": "python3"
  },
  "language_info": {
   "codemirror_mode": {
    "name": "ipython",
    "version": 3
   },
   "file_extension": ".py",
   "mimetype": "text/x-python",
   "name": "python",
   "nbconvert_exporter": "python",
   "pygments_lexer": "ipython3",
   "version": "3.11.5"
  }
 },
 "nbformat": 4,
 "nbformat_minor": 5
}
