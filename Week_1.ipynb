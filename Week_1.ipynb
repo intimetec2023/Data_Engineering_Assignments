{
 "cells": [
  {
   "cell_type": "code",
   "execution_count": 7,
   "id": "528f6fb3-3282-4086-9c13-0a1d84710dcc",
   "metadata": {},
   "outputs": [
    {
     "name": "stdout",
     "output_type": "stream",
     "text": [
      "Common values are: [7, 4, 5]\n"
     ]
    }
   ],
   "source": [
    "# 1. Write a program to find common values from two list\n",
    "\n",
    "def common_values(ip_list1, ip_list2):\n",
    "    common_values = []\n",
    "    for item in ip_list1:\n",
    "        if item in ip_list2:\n",
    "            common_values.append(item)\n",
    "    return common_values\n",
    "\n",
    "ip_list1 = [9, 2, 7, 4, 5, 0]\n",
    "ip_list2 = [3, 4, 5, 6, 7, 1]\n",
    "result = common_values(ip_list1, ip_list2)\n",
    "print(\"Common values are:\", result)"
   ]
  },
  {
   "cell_type": "code",
   "execution_count": 2,
   "id": "f306b3dd-6599-4c07-9756-7a567a4f84d6",
   "metadata": {},
   "outputs": [
    {
     "name": "stdout",
     "output_type": "stream",
     "text": [
      "Common values are: {4, 5, 7}\n"
     ]
    }
   ],
   "source": [
    "def common_values(ip_list1, ip_list2):\n",
    "    ip_list1 = set(ip_list1)\n",
    "    ip_list2 = set(ip_list2)\n",
    "    result = ip_list1.intersection(ip_list2)\n",
    "    return result\n",
    "    \n",
    "ip_list1 = [9, 2, 7, 4, 5, 0]\n",
    "ip_list2 = [3, 4, 5, 6, 7, 1]\n",
    "result = common_values(ip_list1, ip_list2)\n",
    "print(\"Common values are:\", result)"
   ]
  },
  {
   "cell_type": "code",
   "execution_count": 3,
   "id": "22d4d23f-03e8-48d6-b3e0-f4696b2d30ef",
   "metadata": {},
   "outputs": [
    {
     "data": {
      "text/plain": [
       "True"
      ]
     },
     "execution_count": 3,
     "metadata": {},
     "output_type": "execute_result"
    }
   ],
   "source": [
    "2 > 1 or (10 < 8 and not True)"
   ]
  },
  {
   "cell_type": "code",
   "execution_count": 6,
   "id": "ceb1bbc7-5066-4f00-89ed-31b5b6a9e1e3",
   "metadata": {},
   "outputs": [
    {
     "name": "stdout",
     "output_type": "stream",
     "text": [
      "[1, 3, 54, 4, 70, 56, 6]\n"
     ]
    }
   ],
   "source": [
    "# 2. Write a program to remove duplicate elements from the given list with the original order.\n",
    "\n",
    "def remove_duplicates(ip_list):\n",
    "    new_list = []\n",
    "    for i in ip_list:\n",
    "        if i not in new_list:\n",
    "            new_list.append(i)\n",
    "    return new_list       \n",
    "            \n",
    "ip_list = [1, 3, 1, 54, 4, 3, 70, 56, 6, 4]\n",
    "result = remove_duplicates(ip_list)\n",
    "print(result)"
   ]
  },
  {
   "cell_type": "code",
   "execution_count": 12,
   "id": "c028f976-eef2-400f-8ff0-c375ae117d69",
   "metadata": {},
   "outputs": [
    {
     "name": "stdout",
     "output_type": "stream",
     "text": [
      "[1, 1, 2, 3, 3, 4, 5, 5, 5, 6, 9, 11, 20]\n"
     ]
    }
   ],
   "source": [
    "# 3. Write a program to sort the list, dictionary. \n",
    "\n",
    "def  sort_list(ip_list):\n",
    "    for i in range(len(ip_list)):\n",
    "        for j in range(0, len(ip_list)-i-1):\n",
    "            if ip_list[j] > ip_list[j+1]:\n",
    "                ip_list[j], ip_list[j+1] = ip_list[j+1], ip_list[j]\n",
    "    return ip_list\n",
    "ip_list = [3, 1, 4, 20, 11, 1, 5, 9, 2, 6, 5, 3, 5]\n",
    "result = sort_list(ip_list)\n",
    "print(result)"
   ]
  },
  {
   "cell_type": "code",
   "execution_count": 20,
   "id": "535b845d-fb96-4358-8065-9c98494ba0d5",
   "metadata": {},
   "outputs": [
    {
     "name": "stdout",
     "output_type": "stream",
     "text": [
      "1745\n"
     ]
    }
   ],
   "source": [
    "# 4. Write a program to convert decimal number into octal and vice versa.\n",
    "\n",
    "def to_octal(num):\n",
    "    octal = \"\"\n",
    "    while num > 0:\n",
    "        rem = num%8\n",
    "        octal = str(rem) + octal\n",
    "        num = num//8\n",
    "    return octal\n",
    "print(to_octal(997))"
   ]
  },
  {
   "cell_type": "code",
   "execution_count": 19,
   "id": "109797a8-6a02-4af4-a8ad-1900823361b6",
   "metadata": {},
   "outputs": [
    {
     "name": "stdout",
     "output_type": "stream",
     "text": [
      "511\n"
     ]
    }
   ],
   "source": [
    "def to_deci(num):\n",
    "    deci = 0\n",
    "    l = len(str(num))-1\n",
    "    while l >= 0:\n",
    "        val = num%10\n",
    "        deci = val * (8 ** l) + deci\n",
    "        l -= 1\n",
    "    return deci\n",
    "print(to_deci(997))"
   ]
  },
  {
   "cell_type": "code",
   "execution_count": 23,
   "id": "2d8aa4fe-83b7-466d-90d5-f346e74bd5d6",
   "metadata": {},
   "outputs": [
    {
     "name": "stdout",
     "output_type": "stream",
     "text": [
      "Prime numbers between 0 and 10 are: [2, 3, 5, 7]\n"
     ]
    }
   ],
   "source": [
    "# 5. Write a program to print all prime numbers between 0, 10 using list comprehension.\n",
    "\n",
    "def is_prime(num):\n",
    "    if num == 1:\n",
    "        return False\n",
    "    i = 2\n",
    "    while i * i <= num:\n",
    "        if num % i == 0:\n",
    "            return False\n",
    "        i += 1\n",
    "    return True\n",
    "\n",
    "prime_numbers = [num for num in range(2, 11) if is_prime(num)]\n",
    "print(\"Prime numbers between 0 and 10 are:\", prime_numbers)\n"
   ]
  },
  {
   "cell_type": "code",
   "execution_count": 26,
   "id": "97e46020-2f2a-4083-ae66-219edc50de3a",
   "metadata": {},
   "outputs": [
    {
     "name": "stdout",
     "output_type": "stream",
     "text": [
      "[(0, 2), (1, 3), (2, 5), (3, 7)]\n"
     ]
    }
   ],
   "source": [
    "# 6. Write a method to take a list as an input and gives the output as a list of tuples. where each tuple will contain (index, value).\n",
    "lis = [2, 3, 5, 7]\n",
    "res = [(i,j) for i,j in enumerate(lis)]\n",
    "print(res)"
   ]
  },
  {
   "cell_type": "code",
   "execution_count": 39,
   "id": "1d438fab-27cf-48d0-b801-e842839dcfd3",
   "metadata": {},
   "outputs": [
    {
     "name": "stdin",
     "output_type": "stream",
     "text": [
      "Enter the order (M) of the square matrix:  2\n"
     ]
    },
    {
     "name": "stdout",
     "output_type": "stream",
     "text": [
      "Enter 2x2 matrix with spaces line by line:\n"
     ]
    },
    {
     "name": "stdin",
     "output_type": "stream",
     "text": [
      "  2 3\n",
      " 3 5\n"
     ]
    },
    {
     "name": "stdout",
     "output_type": "stream",
     "text": [
      "Matrix with diagonals interchanged:\n",
      "3 2\n",
      "5 3\n"
     ]
    }
   ],
   "source": [
    "### 7. Program to accept a matrix of order MxM and interchange the diagonals.\n",
    "\n",
    "def interchange_diagonals(matrix):\n",
    "    # Check if the matrix is square (MxM)\n",
    "    rows = len(matrix)\n",
    "    cols = len(matrix[0])\n",
    "    if rows != cols:\n",
    "        return \"Matrix is not square, cannot interchange diagonals\"\n",
    "\n",
    "    # Interchange the diagonals\n",
    "    for i in range(rows):\n",
    "        matrix[i][i], matrix[i][rows - 1 - i] = matrix[i][rows - 1 - i], matrix[i][i]\n",
    "\n",
    "    return matrix\n",
    "\n",
    "# Function to print a matrix\n",
    "def print_matrix(matrix):\n",
    "    for row in matrix:\n",
    "        print(\" \".join(map(str, row)))\n",
    "\n",
    "# Input: matrix order MxM\n",
    "M = int(input(\"Enter the order (M) of the square matrix: \"))\n",
    "\n",
    "matrix = []\n",
    "print(f\"Enter {M}x{M} matrix with spaces line by line:\")\n",
    "for _ in range(M):\n",
    "    row = list(map(int, input().split()))\n",
    "    matrix.append(row)\n",
    "\n",
    "interchanged_matrix = interchange_diagonals(matrix)\n",
    "if isinstance(interchanged_matrix, str):\n",
    "    print(interchanged_matrix)\n",
    "else:\n",
    "    print(\"Matrix with diagonals interchanged:\")\n",
    "    print_matrix(interchanged_matrix)\n"
   ]
  },
  {
   "cell_type": "code",
   "execution_count": 41,
   "id": "9aa66aac-083b-45c4-9fd0-d6a91b7076b5",
   "metadata": {},
   "outputs": [
    {
     "name": "stdout",
     "output_type": "stream",
     "text": [
      "Modified text has been saved to C:\\Users\\priyanka.choudhary\\Downloads\\output.txt\n",
      "Number of white spaces in the modified text: 6\n"
     ]
    }
   ],
   "source": [
    "# Program to accept a text file as input and print the text in a new file with the first alphabet of each word capitalized.\n",
    "# Also, print the number of white spaces in the new file.\n",
    "\n",
    "def capitalize_text(input_file_path, output_file_path):\n",
    "    try:\n",
    "        with open(input_file_path, 'r') as input_file:\n",
    "            text = input_file.read()\n",
    "        \n",
    "        capitalized_text = \" \".join(word.capitalize() for word in text.split())\n",
    "        \n",
    "        with open(output_file_path, 'w') as output_file:\n",
    "            output_file.write(capitalized_text)\n",
    "        \n",
    "        white_space_count = capitalized_text.count(\" \")\n",
    "        \n",
    "        return white_space_count\n",
    "\n",
    "    except FileNotFoundError:\n",
    "        return \"Input file not found\"\n",
    "\n",
    "input_file_path = r'C:\\Users\\priyanka.choudhary\\Downloads\\input.txt'\n",
    "output_file_path = r'C:\\Users\\priyanka.choudhary\\Downloads\\output.txt'\n",
    "\n",
    "white_space_count = capitalize_text(input_file_path, output_file_path)\n",
    "\n",
    "if isinstance(white_space_count, str):\n",
    "    print(white_space_count)\n",
    "else:\n",
    "    print(f\"Modified text has been saved to {output_file_path}\")\n",
    "    print(f\"Number of white spaces in the modified text: {white_space_count}\")"
   ]
  },
  {
   "cell_type": "code",
   "execution_count": null,
   "id": "ba72cecd-75ec-47b0-8123-cab32aef6d0a",
   "metadata": {},
   "outputs": [],
   "source": []
  }
 ],
 "metadata": {
  "kernelspec": {
   "display_name": "Python 3 (ipykernel)",
   "language": "python",
   "name": "python3"
  },
  "language_info": {
   "codemirror_mode": {
    "name": "ipython",
    "version": 3
   },
   "file_extension": ".py",
   "mimetype": "text/x-python",
   "name": "python",
   "nbconvert_exporter": "python",
   "pygments_lexer": "ipython3",
   "version": "3.11.5"
  }
 },
 "nbformat": 4,
 "nbformat_minor": 5
}
