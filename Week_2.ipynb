{
 "cells": [
  {
   "cell_type": "code",
   "execution_count": 53,
   "id": "762ce159-6bba-44d1-aa65-cc3af1445b9b",
   "metadata": {},
   "outputs": [
    {
     "name": "stdout",
     "output_type": "stream",
     "text": [
      "Yamaha R1 started.\n",
      "Gasoline Engine started\n",
      "Yamaha R1 stopped.\n",
      "Gasoline Engine stopped\n",
      "This bike has a power of 1000 displacement\n"
     ]
    }
   ],
   "source": [
    "# 1. Create a class of Bike and Engine and map to mimic a real-world bike object. (Please ponder design options, before implementation)\n",
    "\n",
    "class Engine:\n",
    "    def __init__(self, displacement, fuel_type):\n",
    "        self.displacement = displacement \n",
    "        self.fuel_type = fuel_type  \n",
    "\n",
    "    def start(self):\n",
    "        print(f\"{self.fuel_type} Engine started\")\n",
    "\n",
    "    def stop(self):\n",
    "        print(f\"{self.fuel_type} Engine stopped\")\n",
    "\n",
    "\n",
    "class Bike(Engine):\n",
    "    def __init__(self,displacement,fuel_type, brand, model, year):\n",
    "        self.brand = brand \n",
    "        self.model = model \n",
    "        self.year = year \n",
    "        super().__init__(displacement,fuel_type)\n",
    "\n",
    "    def start(self):\n",
    "        print(f\"{self.brand} {self.model} started.\")\n",
    "        super().start()\n",
    "        \n",
    "    def stop(self):\n",
    "        print(f\"{self.brand} {self.model} stopped.\")\n",
    "        super().stop()\n",
    "\n",
    "    def power(self):\n",
    "        print(f\"This bike has a power of {self.displacement} displacement\")\n",
    "        \n",
    "bike = Bike(displacement=1000, fuel_type=\"Gasoline\",brand=\"Yamaha\", model=\"R1\", year=2023)\n",
    "\n",
    "bike.start() \n",
    "bike.stop()   \n",
    "bike.power()"
   ]
  },
  {
   "cell_type": "code",
   "execution_count": 45,
   "id": "a39acfef-c070-4c7f-b6b4-2a1fcc35fe1a",
   "metadata": {},
   "outputs": [
    {
     "name": "stdout",
     "output_type": "stream",
     "text": [
      "Choose an option:\n",
      "1. If you are admin than choose 1\n",
      "2. If you are student than choose 2\n"
     ]
    },
    {
     "name": "stdin",
     "output_type": "stream",
     "text": [
      "Enter the option of your choice:  2\n",
      "Please enter your rollnumber :  t3\n"
     ]
    },
    {
     "name": "stdout",
     "output_type": "stream",
     "text": [
      "['t1\\n', 't2\\n', 't3\\n', '\\n', 't3\\n'] student_record\n",
      "Choose an option:\n",
      "1. If you want to lend book/books than choose 3\n",
      "2. If you want to return book/books than choose 4\n"
     ]
    },
    {
     "name": "stdin",
     "output_type": "stream",
     "text": [
      "Enter the option of your choice:  5\n"
     ]
    },
    {
     "name": "stdout",
     "output_type": "stream",
     "text": [
      "Please enter correct option\n"
     ]
    }
   ],
   "source": [
    "class Library:\n",
    "    def __init__(self, library_name):\n",
    "        self.library_name = library_name\n",
    "\n",
    "        with open(f\"{library_name}.txt\", 'a') as f:\n",
    "            pass\n",
    "\n",
    "    def add_book(self, book_names):\n",
    "        #print(book_names)\n",
    "        with open(f\"{self.library_name}.txt\", 'a') as f:\n",
    "            for book in book_names:\n",
    "                book = book.strip()\n",
    "                f.write(book + '\\n') \n",
    "            print(\"Books added successfully\")\n",
    "\n",
    "    def lend_book(self, book_name, student):\n",
    "        for book in book_name:\n",
    "            book = book.strip()\n",
    "            with open(f\"{self.library_name}.txt\", 'r+') as f:\n",
    "                lines = f.readlines()\n",
    "                lines = [line.strip() for line in lines]\n",
    "                \n",
    "                if book in lines:\n",
    "                    with open(f\"{student}.txt\", 'a') as s:\n",
    "                        s.write(book + '\\n')\n",
    "                    \n",
    "                    new_lines = [line for line in lines if line != book]\n",
    "                    f.seek(0)\n",
    "                    f.truncate() \n",
    "                    f.writelines(\"\\n\".join(new_lines))\n",
    "                    f.seek(0, 2)\n",
    "                else:\n",
    "                    print(f\"{book} is not available in Library\")\n",
    "\n",
    "\n",
    "    def return_book(self, books_return, student):\n",
    "        for book in books_return:\n",
    "            book = book.strip()\n",
    "            with open(f\"{student}.txt\", 'r+') as s:\n",
    "                lines = s.readlines()\n",
    "                new_lines = [line.strip() for line in lines if line != book]\n",
    "                s.seek(0)\n",
    "                s.truncate()  \n",
    "                s.writelines(\"\\n\".join(new_lines))\n",
    "            with open(f\"{self.library_name}.txt\", 'a') as f:\n",
    "                f.write(book + '\\n')\n",
    "\n",
    "class Students:\n",
    "    def __init__(self, student_name):\n",
    "        self.library_name = student_name\n",
    "\n",
    "        with open(f\"{student_name}.txt\", 'w') as f:\n",
    "            pass\n",
    "\n",
    "\n",
    "l = Library(\"UniLib\")\n",
    "print(\"Choose an option:\")\n",
    "print(\"1. If you are admin than choose 1\")\n",
    "print(\"2. If you are student than choose 2\")\n",
    "user_choice = input(\"Enter the option of your choice: \")\n",
    "\n",
    "if user_choice == '1':\n",
    "    new_books = list(input(\"Enter the book/books that is newly added in library separated by commas : \").split(\",\"))\n",
    "    l.add_book(new_books)\n",
    "\n",
    "elif user_choice == '2':\n",
    "    name = input(\"Please enter your rollnumber : \").strip()\n",
    "    with open(\"student_record.txt\", \"r+\") as sr:\n",
    "        lines = sr.readlines()\n",
    "        print(lines, \"student_record\")\n",
    "        if name not in lines:\n",
    "            student = Students(name)\n",
    "            sr.write(name + '\\n')\n",
    "        else:\n",
    "            print(f\"{name} already exists in the student records.\")\n",
    "                    \n",
    "\n",
    "    print(\"Choose an option:\")\n",
    "    print(\"1. If you want to lend book/books than choose 3\")\n",
    "    print(\"2. If you want to return book/books than choose 4\")\n",
    "    user_choice = input(\"Enter the option of your choice: \")\n",
    "\n",
    "    if user_choice == '3':\n",
    "        books_lend = list(input(\"Enter the book/books that you want to lend separated by commas: \").split(\",\"))\n",
    "        l.lend_book(books_lend, name)\n",
    "    elif user_choice == '4':\n",
    "        books_return = list(input(\"Enter the book/books that you want to return separated by commas: \").split(\",\"))\n",
    "        l.return_book(books_return, name)\n",
    "    else:\n",
    "        print(\"Please enter correct option\")\n",
    "\n",
    "else:\n",
    "    print(\"Please enter correct option from above\")\n"
   ]
  },
  {
   "cell_type": "markdown",
   "id": "000b7fc7-7b87-4450-9f73-429b86029b70",
   "metadata": {},
   "source": [
    "##### 3. Write a program to generate Fibonacci numbers using a generator.\n",
    "\n",
    "def fibonacci_generator():\n",
    "    a, b = 0, 1\n",
    "    while True:\n",
    "        yield a\n",
    "        a, b = b, a + b\n",
    "\n",
    "fibonacci = fibonacci_generator()\n",
    "\n",
    "for _ in range(10):\n",
    "    print(next(fibonacci))"
   ]
  },
  {
   "cell_type": "code",
   "execution_count": 8,
   "id": "265a118d-acf1-48ad-82bb-fe3bd6804a85",
   "metadata": {},
   "outputs": [
    {
     "name": "stdout",
     "output_type": "stream",
     "text": [
      "5\n",
      "4\n",
      "3\n",
      "2\n",
      "1\n"
     ]
    }
   ],
   "source": [
    "# 4. Write a program that takes a list and iterates it from the reverse direction. (Write iterator class for this).\n",
    "\n",
    "class ReverseIterator:\n",
    "    def __init__(self, data):\n",
    "        self.data = data\n",
    "        self.index = len(data)\n",
    "\n",
    "    def __iter__(self):\n",
    "        return self\n",
    "\n",
    "    def __next__(self):\n",
    "        if self.index <= 0:\n",
    "            raise StopIteration\n",
    "        self.index -= 1\n",
    "        return self.data[self.index]\n",
    "\n",
    "my_list = [1, 2, 3, 4, 5]\n",
    "\n",
    "reverse_iterator = ReverseIterator(my_list)\n",
    "\n",
    "for item in reverse_iterator:\n",
    "    print(item)"
   ]
  }
 ],
 "metadata": {
  "kernelspec": {
   "display_name": "Python 3 (ipykernel)",
   "language": "python",
   "name": "python3"
  },
  "language_info": {
   "codemirror_mode": {
    "name": "ipython",
    "version": 3
   },
   "file_extension": ".py",
   "mimetype": "text/x-python",
   "name": "python",
   "nbconvert_exporter": "python",
   "pygments_lexer": "ipython3",
   "version": "3.11.5"
  }
 },
 "nbformat": 4,
 "nbformat_minor": 5
}
