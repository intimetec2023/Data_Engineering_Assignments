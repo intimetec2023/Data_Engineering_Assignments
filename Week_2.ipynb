{
 "cells": [
  {
   "cell_type": "code",
   "execution_count": 6,
   "id": "762ce159-6bba-44d1-aa65-cc3af1445b9b",
   "metadata": {},
   "outputs": [
    {
     "name": "stdout",
     "output_type": "stream",
     "text": [
      "Yamaha R1 started.\n",
      "Engine started\n",
      "Yamaha R1 stopped.\n",
      "Engine stopped\n"
     ]
    }
   ],
   "source": [
    "# 1. Create a class of Bike and Engine and map to mimic a real-world bike object. (Please ponder design options, before implementation)\n",
    "\n",
    "class Engine:\n",
    "    def __init__(self, displacement, fuel_type):\n",
    "        self.displacement = displacement \n",
    "        self.fuel_type = fuel_type  \n",
    "\n",
    "    def start(self):\n",
    "        print(\"Engine started\")\n",
    "\n",
    "    def stop(self):\n",
    "        print(\"Engine stopped\")\n",
    "\n",
    "\n",
    "class Bike:\n",
    "    def __init__(self, brand, model, year, engine):\n",
    "        self.brand = brand \n",
    "        self.model = model \n",
    "        self.year = year \n",
    "        self.engine = engine  \n",
    "\n",
    "    def start(self):\n",
    "        print(f\"{self.brand} {self.model} started.\")\n",
    "        self.engine.start()\n",
    "\n",
    "    def stop(self):\n",
    "        print(f\"{self.brand} {self.model} stopped.\")\n",
    "        self.engine.stop()\n",
    "\n",
    "engine = Engine(displacement=1000, fuel_type=\"Gasoline\")\n",
    "bike = Bike(brand=\"Yamaha\", model=\"R1\", year=2023, engine=engine)\n",
    "\n",
    "bike.start() \n",
    "bike.stop()   \n"
   ]
  },
  {
   "cell_type": "code",
   "execution_count": 18,
   "id": "a39acfef-c070-4c7f-b6b4-2a1fcc35fe1a",
   "metadata": {},
   "outputs": [],
   "source": [
    "class Library:\n",
    "    def __init__(self, library_name):\n",
    "        self.library_name = library_name\n",
    "\n",
    "        with open(f\"{library_name}.txt\", 'w') as f:\n",
    "            pass\n",
    "\n",
    "    def add_book(self, book_names):\n",
    "        with open(f\"{self.library_name}.txt\", 'a') as f:\n",
    "            for book in book_names:\n",
    "                f.write(book + '\\n') \n",
    "                \n",
    "    def lend_book(self, book_name):\n",
    "        with open(f\"{self.library_name}.txt\", 'r') as f:\n",
    "            \n",
    "        \n",
    "\n",
    "class Students:\n",
    "    def __init__(self, student_name):\n",
    "        self.library_name = student_name\n",
    "\n",
    "        with open(f\"{student_name}.txt\", 'w') as f:\n",
    "            pass\n",
    "        \n",
    "\n",
    "l = Library(\"UniLib\")\n",
    "l.add_book([\"Geeta\",\"Ramayana\"])\n",
    "s = Students(\"Raj\")"
   ]
  },
  {
   "cell_type": "code",
   "execution_count": 4,
   "id": "d47072b1-2af6-4d02-a673-9f1758aa354b",
   "metadata": {},
   "outputs": [
    {
     "name": "stdout",
     "output_type": "stream",
     "text": [
      "0\n",
      "1\n",
      "1\n",
      "2\n",
      "3\n",
      "5\n",
      "8\n",
      "13\n",
      "21\n",
      "34\n"
     ]
    }
   ],
   "source": [
    "# 3. Write a program to generate Fibonacci numbers using a generator.\n",
    "\n",
    "def fibonacci_generator():\n",
    "    a, b = 0, 1\n",
    "    while True:\n",
    "        yield a\n",
    "        a, b = b, a + b\n",
    "\n",
    "fibonacci = fibonacci_generator()\n",
    "\n",
    "for _ in range(10):\n",
    "    print(next(fibonacci))"
   ]
  },
  {
   "cell_type": "code",
   "execution_count": 8,
   "id": "265a118d-acf1-48ad-82bb-fe3bd6804a85",
   "metadata": {},
   "outputs": [
    {
     "name": "stdout",
     "output_type": "stream",
     "text": [
      "5\n",
      "4\n",
      "3\n",
      "2\n",
      "1\n"
     ]
    }
   ],
   "source": [
    "# 4. Write a program that takes a list and iterates it from the reverse direction. (Write iterator class for this).\n",
    "\n",
    "class ReverseIterator:\n",
    "    def __init__(self, data):\n",
    "        self.data = data\n",
    "        self.index = len(data)\n",
    "\n",
    "    def __iter__(self):\n",
    "        return self\n",
    "\n",
    "    def __next__(self):\n",
    "        if self.index <= 0:\n",
    "            raise StopIteration\n",
    "        self.index -= 1\n",
    "        return self.data[self.index]\n",
    "\n",
    "my_list = [1, 2, 3, 4, 5]\n",
    "\n",
    "reverse_iterator = ReverseIterator(my_list)\n",
    "\n",
    "for item in reverse_iterator:\n",
    "    print(item)"
   ]
  }
 ],
 "metadata": {
  "kernelspec": {
   "display_name": "Python 3 (ipykernel)",
   "language": "python",
   "name": "python3"
  },
  "language_info": {
   "codemirror_mode": {
    "name": "ipython",
    "version": 3
   },
   "file_extension": ".py",
   "mimetype": "text/x-python",
   "name": "python",
   "nbconvert_exporter": "python",
   "pygments_lexer": "ipython3",
   "version": "3.11.5"
  }
 },
 "nbformat": 4,
 "nbformat_minor": 5
}
