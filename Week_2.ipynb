{
 "cells": [
  {
   "cell_type": "code",
   "execution_count": 6,
   "id": "762ce159-6bba-44d1-aa65-cc3af1445b9b",
   "metadata": {},
   "outputs": [
    {
     "name": "stdout",
     "output_type": "stream",
     "text": [
      "Yamaha R1 started.\n",
      "Engine started\n",
      "Yamaha R1 stopped.\n",
      "Engine stopped\n"
     ]
    }
   ],
   "source": [
    "# 1. Create a class of Bike and Engine and map to mimic a real-world bike object. (Please ponder design options, before implementation)\n",
    "\n",
    "class Engine:\n",
    "    def __init__(self, displacement, fuel_type):\n",
    "        self.displacement = displacement \n",
    "        self.fuel_type = fuel_type  \n",
    "\n",
    "    def start(self):\n",
    "        print(\"Engine started\")\n",
    "\n",
    "    def stop(self):\n",
    "        print(\"Engine stopped\")\n",
    "\n",
    "\n",
    "class Bike:\n",
    "    def __init__(self, brand, model, year, engine):\n",
    "        self.brand = brand \n",
    "        self.model = model \n",
    "        self.year = year \n",
    "        self.engine = engine  \n",
    "\n",
    "    def start(self):\n",
    "        print(f\"{self.brand} {self.model} started.\")\n",
    "        self.engine.start()\n",
    "\n",
    "    def stop(self):\n",
    "        print(f\"{self.brand} {self.model} stopped.\")\n",
    "        self.engine.stop()\n",
    "\n",
    "engine = Engine(displacement=1000, fuel_type=\"Gasoline\")\n",
    "bike = Bike(brand=\"Yamaha\", model=\"R1\", year=2023, engine=engine)\n",
    "\n",
    "bike.start() \n",
    "bike.stop()   \n"
   ]
  },
  {
   "cell_type": "code",
   "execution_count": 2,
   "id": "e41075c1-82a6-43c2-a31d-3e8716b22073",
   "metadata": {},
   "outputs": [
    {
     "name": "stdout",
     "output_type": "stream",
     "text": [
      "Books available in Central Library library:\n",
      "Book1\n",
      "Book2\n",
      "Book3\n",
      "Book4\n",
      "Book1 has been lent to Alice.\n",
      "Book2 has been lent to Bob.\n",
      "Book1 has been received from Alice.\n",
      "Book2 has been received from Bob.\n",
      "Books available in Central Library library:\n",
      "Book3\n",
      "Book4\n",
      "Book1\n",
      "Book2\n"
     ]
    }
   ],
   "source": [
    "# 2. OOP code to display, lend and receive the books from students in a library.\n",
    "\n",
    "class Library:\n",
    "    def __init__(self, name, books):\n",
    "        self.name = name  \n",
    "        self.books = books  \n",
    "\n",
    "    def display_books(self):\n",
    "        print(f\"Books available in {self.name} library:\")\n",
    "        for book in self.books:\n",
    "            print(book)\n",
    "\n",
    "    def lend_book(self, book_name, student_name):\n",
    "        if book_name in self.books:\n",
    "            self.books.remove(book_name)\n",
    "            print(f\"{book_name} has been lent to {student_name}.\")\n",
    "        else:\n",
    "            print(f\"{book_name} is not available in the library.\")\n",
    "\n",
    "    def receive_book(self, book_name, student_name):\n",
    "        self.books.append(book_name)\n",
    "        print(f\"{book_name} has been received from {student_name}.\")\n",
    "        \n",
    "\n",
    "class Student:\n",
    "    def __init__(self, name):\n",
    "        self.name = name  \n",
    "\n",
    "    def request_book(self, library, book_name):\n",
    "        library.lend_book(book_name, self.name)\n",
    "\n",
    "    def return_book(self, library, book_name):\n",
    "        library.receive_book(book_name, self.name)\n",
    "\n",
    "\n",
    "library = Library(\"Central Library\", [\"Book1\", \"Book2\", \"Book3\", \"Book4\"])\n",
    "\n",
    "student1 = Student(\"Alice\")\n",
    "student2 = Student(\"Bob\")\n",
    "\n",
    "library.display_books()\n",
    "\n",
    "student1.request_book(library, \"Book1\")\n",
    "student2.request_book(library, \"Book2\")\n",
    "\n",
    "student1.return_book(library, \"Book1\")\n",
    "student2.return_book(library, \"Book2\")\n",
    "\n",
    "library.display_books()\n"
   ]
  },
  {
   "cell_type": "code",
   "execution_count": 7,
   "id": "d47072b1-2af6-4d02-a673-9f1758aa354b",
   "metadata": {},
   "outputs": [
    {
     "name": "stdout",
     "output_type": "stream",
     "text": [
      "0\n",
      "1\n",
      "1\n",
      "2\n",
      "3\n",
      "5\n",
      "8\n",
      "13\n",
      "21\n",
      "34\n"
     ]
    }
   ],
   "source": [
    "# 3. Write a program to generate Fibonacci numbers using a generator.\n",
    "\n",
    "def fibonacci_generator():\n",
    "    a, b = 0, 1\n",
    "    while True:\n",
    "        yield a\n",
    "        a, b = b, a + b\n",
    "\n",
    "fibonacci = fibonacci_generator()\n",
    "\n",
    "for _ in range(10):\n",
    "    print(next(fibonacci))"
   ]
  },
  {
   "cell_type": "code",
   "execution_count": 8,
   "id": "265a118d-acf1-48ad-82bb-fe3bd6804a85",
   "metadata": {},
   "outputs": [
    {
     "name": "stdout",
     "output_type": "stream",
     "text": [
      "5\n",
      "4\n",
      "3\n",
      "2\n",
      "1\n"
     ]
    }
   ],
   "source": [
    "# 4. Write a program that takes a list and iterates it from the reverse direction. (Write iterator class for this).\n",
    "\n",
    "class ReverseIterator:\n",
    "    def __init__(self, data):\n",
    "        self.data = data\n",
    "        self.index = len(data)\n",
    "\n",
    "    def __iter__(self):\n",
    "        return self\n",
    "\n",
    "    def __next__(self):\n",
    "        if self.index <= 0:\n",
    "            raise StopIteration\n",
    "        self.index -= 1\n",
    "        return self.data[self.index]\n",
    "\n",
    "my_list = [1, 2, 3, 4, 5]\n",
    "\n",
    "reverse_iterator = ReverseIterator(my_list)\n",
    "\n",
    "for item in reverse_iterator:\n",
    "    print(item)"
   ]
  },
  {
   "cell_type": "code",
   "execution_count": null,
   "id": "822a1236-018e-4181-9c6f-cd453286b888",
   "metadata": {},
   "outputs": [],
   "source": []
  }
 ],
 "metadata": {
  "kernelspec": {
   "display_name": "Python 3 (ipykernel)",
   "language": "python",
   "name": "python3"
  },
  "language_info": {
   "codemirror_mode": {
    "name": "ipython",
    "version": 3
   },
   "file_extension": ".py",
   "mimetype": "text/x-python",
   "name": "python",
   "nbconvert_exporter": "python",
   "pygments_lexer": "ipython3",
   "version": "3.11.5"
  }
 },
 "nbformat": 4,
 "nbformat_minor": 5
}
